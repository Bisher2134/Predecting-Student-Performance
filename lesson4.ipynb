{
 "cells": [
  {
   "cell_type": "markdown",
   "id": "48776b07",
   "metadata": {},
   "source": [
    "<div style=\"font-size:32px; font-weight:bold; color:#27F576; font-family:Arial;\">\n",
    "  🧩 Lesson 4 : Letʼs Build a Predictor App!    \n",
    "</div>\n"
   ]
  },
  {
   "cell_type": "code",
   "execution_count": null,
   "id": "aaa0e5e9",
   "metadata": {},
   "outputs": [
    {
     "name": "stderr",
     "output_type": "stream",
     "text": [
      "2025-07-30 15:18:56.789 WARNING streamlit.runtime.scriptrunner_utils.script_run_context: Thread 'MainThread': missing ScriptRunContext! This warning can be ignored when running in bare mode.\n",
      "2025-07-30 15:18:57.322 \n",
      "  \u001b[33m\u001b[1mWarning:\u001b[0m to view this Streamlit app on a browser, run it with the following\n",
      "  command:\n",
      "\n",
      "    streamlit run c:\\Users\\BS\\anaconda3\\Lib\\site-packages\\ipykernel_launcher.py [ARGUMENTS]\n",
      "2025-07-30 15:18:57.322 Thread 'MainThread': missing ScriptRunContext! This warning can be ignored when running in bare mode.\n",
      "2025-07-30 15:18:57.322 Thread 'MainThread': missing ScriptRunContext! This warning can be ignored when running in bare mode.\n",
      "2025-07-30 15:18:58.246 Thread 'MainThread': missing ScriptRunContext! This warning can be ignored when running in bare mode.\n",
      "2025-07-30 15:18:58.246 Thread 'MainThread': missing ScriptRunContext! This warning can be ignored when running in bare mode.\n",
      "2025-07-30 15:18:58.246 Thread 'MainThread': missing ScriptRunContext! This warning can be ignored when running in bare mode.\n"
     ]
    }
   ],
   "source": [
    "import gradio as gr # 🔌 Build user interface\n",
    "from sklearn.linear_model import LogisticRegression # 🎯 Simple ML classifier\n",
    "import pandas as pd # 📊 Data loading and prep\n",
    "\n",
    "# Load and prepare data\n",
    "Data = pd.read_csv('student_exam.csv')  # Load dataset 📄\n",
    "\n",
    "# Features and target\n",
    "features = ['studytime', 'failures', 'G1', 'G2']\n",
    "target = 'G3'\n",
    "\n",
    "# Convert G3 to binary pass/fail\n",
    "Data[target] = Data[target].apply(lambda x: 1 if x >= 10 else 0)\n",
    "\n",
    "X = Data[features]\n",
    "y = Data[target]\n",
    "\n",
    "# Train model\n",
    "model = LogisticRegression(random_state=42)\n",
    "model.fit(X, y)\n",
    "\n",
    "# Prediction function\n",
    "def predict_grade(study_time, failures, g1, g2):\n",
    "    input_data = pd.DataFrame([[study_time, failures, g1, g2]], columns=features)\n",
    "    prediction = model.predict(input_data)[0]\n",
    "    return \"Pass ✅\" if prediction == 1 else \"Fail ❌\"\n",
    "\n",
    "# Gradio interface\n",
    "demo = gr.Interface(\n",
    "    fn=predict_grade, # Prediction function\n",
    "    inputs=[\n",
    "        gr.Number(label=\"Study Time (1-4)\"), # ⏳ How much time student spends studying\n",
    "        gr.Number(label=\"Failures (0-4)\"),   # 📉 Number of past course failures\n",
    "        gr.Number(label=\"G1 Grade (0-20)\"),  # 📝 First period grade\n",
    "        gr.Number(label=\"G2 Grade (0-20)\"),  # 📝 Second period grade\n",
    "    ],\n",
    "    outputs=gr.Text(label=\"Prediction: Pass or Fail\"),\n",
    "    title=\"Student Exam Success Predictor\", # 🎓 App Title\n",
    "    description=\"Enter the student's data to predict if they will pass or fail the final exam.\"\n",
    ")\n",
    "\n",
    "demo.launch()"
   ]
  },
  {
   "cell_type": "markdown",
   "id": "ae136b25",
   "metadata": {},
   "source": [
    " <h2 style=\"color:#00695C\">🧠 What You Should Learn</h2>"
   ]
  },
  {
   "cell_type": "markdown",
   "id": "1491a2d1",
   "metadata": {},
   "source": [
    "✅  How to convert a trained model into a usable interface  \n",
    "✅  The structure of inputs and outputs in a real app  \n",
    "✅  Basic UX principles: clear labels, intuitive design  \n",
    "✅  Hands-on use of Gradio — deploy ML without web dev!  \n",
    "✅ Confidence in deploying their first ML-powered tool  "
   ]
  },
  {
   "cell_type": "markdown",
   "id": "47d93c35",
   "metadata": {},
   "source": [
    " <h2 style=\"color:#00695C\">🎯 Challenges For You : </h2>"
   ]
  },
  {
   "cell_type": "markdown",
   "id": "3ed7bee3",
   "metadata": {},
   "source": [
    "Try the following improvements to your Gradio app. These tasks encourage deeper thinking, more experimentation, and exploration of ethical ML design.\n",
    "\n",
    "1️⃣ **Use a Different Model**\n",
    "- Replace `LogisticRegression` with `RandomForestClassifier`\n",
    "- Compare prediction results — is the new model more accurate?\n",
    "\n",
    "2️⃣ **Add More Features**\n",
    "- Include new inputs: `absences`, `health`, or `famsup`\n",
    "- Retrain your model and update the Gradio app to reflect these changes\n",
    "\n",
    "3️⃣ **Add Model Confidence**\n",
    "- Show the prediction probability (e.g., \"Pass with 85% confidence\")\n",
    "- Hint: Use `model.predict_proba(...)`\n",
    "\n",
    "4️⃣ **Add Subgroup Flags**\n",
    "- Highlight if the student belongs to a high-risk group based on features like failures or low G1/G2\n",
    "- Display messages such as: “Warning: historically at-risk profile”\n",
    "\n",
    "5️⃣ **Add Explanation Text**\n",
    "- Instead of just showing “Pass” or “Fail”, provide a brief reason:\n",
    "  > “Prediction: Fail ❌ — low G1 & G2 combined with multiple failures”\n",
    "\n",
    "6️⃣ **Deploy It Publicly**\n",
    "- Use Hugging Face Spaces to publish your Gradio app\n",
    "- Share your URL with classmates and get feedback!\n",
    "\n"
   ]
  }
 ],
 "metadata": {
  "kernelspec": {
   "display_name": "base",
   "language": "python",
   "name": "python3"
  },
  "language_info": {
   "codemirror_mode": {
    "name": "ipython",
    "version": 3
   },
   "file_extension": ".py",
   "mimetype": "text/x-python",
   "name": "python",
   "nbconvert_exporter": "python",
   "pygments_lexer": "ipython3",
   "version": "3.12.3"
  }
 },
 "nbformat": 4,
 "nbformat_minor": 5
}
