{
 "cells": [
  {
   "cell_type": "markdown",
   "id": "abe56694",
   "metadata": {},
   "source": [
    "<div style=\"font-size:32px; font-weight:bold; color:#FABF8F; font-family:Arial;\">\n",
    "  🤖 Lesson 2 : Building a Simple Model  \n",
    "</div>\n"
   ]
  },
  {
   "cell_type": "markdown",
   "id": "6a7616ce",
   "metadata": {},
   "source": [
    " <h2 style=\"color:#0288D1\">📥 Step 1: Import Libraries & Load Data</h2>"
   ]
  },
  {
   "cell_type": "code",
   "execution_count": 53,
   "id": "175ed529",
   "metadata": {},
   "outputs": [],
   "source": [
    "# 🧰 Core libraries for data processing and modeling\n",
    "import pandas as pd\n",
    "import numpy as np\n",
    "from sklearn.metrics import accuracy_score,classification_report\n",
    "\n",
    "from sklearn.model_selection import train_test_split , cross_val_score\n",
    "from sklearn.preprocessing import OneHotEncoder \n",
    "from sklearn.linear_model import LogisticRegression\n",
    "from sklearn.ensemble import RandomForestRegressor\n"
   ]
  },
  {
   "cell_type": "code",
   "execution_count": 54,
   "id": "0839103a",
   "metadata": {},
   "outputs": [],
   "source": [
    "# 📂 Load the dataset\n",
    "Data = pd.read_csv('student_exam.csv')"
   ]
  },
  {
   "cell_type": "markdown",
   "id": "f145e205",
   "metadata": {},
   "source": [
    "<h2 style=\"color:#6A1B9A\">\n",
    "🔍 Step 2: Check for Missing Data</h2>"
   ]
  },
  {
   "cell_type": "code",
   "execution_count": 55,
   "id": "96e06bd1",
   "metadata": {},
   "outputs": [
    {
     "data": {
      "text/plain": [
       "0"
      ]
     },
     "execution_count": 55,
     "metadata": {},
     "output_type": "execute_result"
    }
   ],
   "source": [
    "# 🕵️‍♂️ Find columns with missing values (NaNs)\n",
    "columns_who_has_nan = []\n",
    "\n",
    "for col in Data.columns:\n",
    "    if Data[col].isnull().sum() > 0:      # ❗ Missing values exist\n",
    "        columns_who_has_nan.append(col)   # ➕ Track those columns\n",
    "\n",
    "len(columns_who_has_nan)  # ✅ 0 means dataset is clean"
   ]
  },
  {
   "cell_type": "markdown",
   "id": "aef9e1e6",
   "metadata": {},
   "source": [
    "<p>We check for missing values before moving ahead. If <code>len(columns_who_has_nan)</code> returns 0, no imputation is required.</p>\n"
   ]
  },
  {
   "cell_type": "markdown",
   "id": "736a3eb0",
   "metadata": {},
   "source": [
    " <h2 style=\"color:#D84315\">🧹 Step 3: Categorical Encoding</h2>"
   ]
  },
  {
   "cell_type": "code",
   "execution_count": 56,
   "id": "d8a5bfe9",
   "metadata": {},
   "outputs": [],
   "source": [
    "# 🎭 Isolate categorical features\n",
    "categorical_features = Data.select_dtypes(include='object')\n",
    "object_cols = categorical_features.columns\n",
    "\n",
    "# 🔄 One-hot encode them\n",
    "encoder = OneHotEncoder(sparse_output=False)  # ✅ New syntax for sklearn >=1.2\n",
    "encoded = encoder.fit_transform(Data[object_cols])\n",
    "\n",
    "# 🧱 Combine encoded columns back with numeric ones\n",
    "encoded_df = pd.DataFrame(encoded, columns=encoder.get_feature_names_out(object_cols), index=Data.index)\n",
    "Data_encoded = pd.concat([Data.drop(columns=object_cols), encoded_df], axis=1)\n",
    "\n",
    "# 🔍 Preview the encoded dataset\n",
    "Data_encoded.head()\n",
    "Data = Data_encoded"
   ]
  },
  {
   "cell_type": "markdown",
   "id": "81e25284",
   "metadata": {},
   "source": [
    "<p>This transforms categorical columns into numerical format using <code>OneHotEncoder</code> — preparing the data for ML models.</p>\n"
   ]
  },
  {
   "cell_type": "markdown",
   "id": "74ad14b8",
   "metadata": {},
   "source": [
    " <h2 style=\"color:#009688\">🎯 Step 4: Define Target Variable</h2>"
   ]
  },
  {
   "cell_type": "code",
   "execution_count": 57,
   "id": "19c9f8a2",
   "metadata": {},
   "outputs": [
    {
     "data": {
      "text/plain": [
       "G3\n",
       "True     814\n",
       "False    230\n",
       "Name: count, dtype: int64"
      ]
     },
     "execution_count": 57,
     "metadata": {},
     "output_type": "execute_result"
    }
   ],
   "source": [
    "# 🎯 Convert G3 into binary: Pass = True, Fail = False\n",
    "Data['G3'] = Data['G3'].apply(lambda x: x >= 10)\n",
    "\n",
    "# 🧮 Check the distribution\n",
    "Data['G3'].value_counts()"
   ]
  },
  {
   "cell_type": "markdown",
   "id": "c857a6ab",
   "metadata": {},
   "source": [
    "<h2 style=\"color:#5D4037\">✂️ Step 5: Split Data</h2>"
   ]
  },
  {
   "cell_type": "code",
   "execution_count": 58,
   "id": "c8bf052d",
   "metadata": {},
   "outputs": [],
   "source": [
    "# 📦 Separate features and target\n",
    "X = Data.drop('G3', axis=1)\n",
    "Y = Data['G3']\n",
    "\n",
    "# 📐 Create training/test split\n",
    "X_train, X_test, Y_train, Y_test = train_test_split(X, Y, test_size=0.25, shuffle=True, random_state=45)"
   ]
  },
  {
   "cell_type": "markdown",
   "id": "45c139ce",
   "metadata": {},
   "source": [
    "<p>We split the data for model training (<code>X_train, Y_train</code>) and evaluation (<code>X_test, Y_test</code>).</p>\n"
   ]
  },
  {
   "cell_type": "markdown",
   "id": "341eb334",
   "metadata": {},
   "source": [
    "<h2 style=\"color:#3F51B5\">🧠 Step 6: Train Logistic Regression</h2>"
   ]
  },
  {
   "cell_type": "code",
   "execution_count": 59,
   "id": "08329ac7",
   "metadata": {},
   "outputs": [
    {
     "name": "stderr",
     "output_type": "stream",
     "text": [
      "c:\\Users\\BS\\anaconda3\\Lib\\site-packages\\sklearn\\linear_model\\_logistic.py:469: ConvergenceWarning: lbfgs failed to converge (status=1):\n",
      "STOP: TOTAL NO. of ITERATIONS REACHED LIMIT.\n",
      "\n",
      "Increase the number of iterations (max_iter) or scale the data as shown in:\n",
      "    https://scikit-learn.org/stable/modules/preprocessing.html\n",
      "Please also refer to the documentation for alternative solver options:\n",
      "    https://scikit-learn.org/stable/modules/linear_model.html#logistic-regression\n",
      "  n_iter_i = _check_optimize_result(\n"
     ]
    },
    {
     "data": {
      "text/html": [
       "<style>#sk-container-id-1 {\n",
       "  /* Definition of color scheme common for light and dark mode */\n",
       "  --sklearn-color-text: black;\n",
       "  --sklearn-color-line: gray;\n",
       "  /* Definition of color scheme for unfitted estimators */\n",
       "  --sklearn-color-unfitted-level-0: #fff5e6;\n",
       "  --sklearn-color-unfitted-level-1: #f6e4d2;\n",
       "  --sklearn-color-unfitted-level-2: #ffe0b3;\n",
       "  --sklearn-color-unfitted-level-3: chocolate;\n",
       "  /* Definition of color scheme for fitted estimators */\n",
       "  --sklearn-color-fitted-level-0: #f0f8ff;\n",
       "  --sklearn-color-fitted-level-1: #d4ebff;\n",
       "  --sklearn-color-fitted-level-2: #b3dbfd;\n",
       "  --sklearn-color-fitted-level-3: cornflowerblue;\n",
       "\n",
       "  /* Specific color for light theme */\n",
       "  --sklearn-color-text-on-default-background: var(--sg-text-color, var(--theme-code-foreground, var(--jp-content-font-color1, black)));\n",
       "  --sklearn-color-background: var(--sg-background-color, var(--theme-background, var(--jp-layout-color0, white)));\n",
       "  --sklearn-color-border-box: var(--sg-text-color, var(--theme-code-foreground, var(--jp-content-font-color1, black)));\n",
       "  --sklearn-color-icon: #696969;\n",
       "\n",
       "  @media (prefers-color-scheme: dark) {\n",
       "    /* Redefinition of color scheme for dark theme */\n",
       "    --sklearn-color-text-on-default-background: var(--sg-text-color, var(--theme-code-foreground, var(--jp-content-font-color1, white)));\n",
       "    --sklearn-color-background: var(--sg-background-color, var(--theme-background, var(--jp-layout-color0, #111)));\n",
       "    --sklearn-color-border-box: var(--sg-text-color, var(--theme-code-foreground, var(--jp-content-font-color1, white)));\n",
       "    --sklearn-color-icon: #878787;\n",
       "  }\n",
       "}\n",
       "\n",
       "#sk-container-id-1 {\n",
       "  color: var(--sklearn-color-text);\n",
       "}\n",
       "\n",
       "#sk-container-id-1 pre {\n",
       "  padding: 0;\n",
       "}\n",
       "\n",
       "#sk-container-id-1 input.sk-hidden--visually {\n",
       "  border: 0;\n",
       "  clip: rect(1px 1px 1px 1px);\n",
       "  clip: rect(1px, 1px, 1px, 1px);\n",
       "  height: 1px;\n",
       "  margin: -1px;\n",
       "  overflow: hidden;\n",
       "  padding: 0;\n",
       "  position: absolute;\n",
       "  width: 1px;\n",
       "}\n",
       "\n",
       "#sk-container-id-1 div.sk-dashed-wrapped {\n",
       "  border: 1px dashed var(--sklearn-color-line);\n",
       "  margin: 0 0.4em 0.5em 0.4em;\n",
       "  box-sizing: border-box;\n",
       "  padding-bottom: 0.4em;\n",
       "  background-color: var(--sklearn-color-background);\n",
       "}\n",
       "\n",
       "#sk-container-id-1 div.sk-container {\n",
       "  /* jupyter's `normalize.less` sets `[hidden] { display: none; }`\n",
       "     but bootstrap.min.css set `[hidden] { display: none !important; }`\n",
       "     so we also need the `!important` here to be able to override the\n",
       "     default hidden behavior on the sphinx rendered scikit-learn.org.\n",
       "     See: https://github.com/scikit-learn/scikit-learn/issues/21755 */\n",
       "  display: inline-block !important;\n",
       "  position: relative;\n",
       "}\n",
       "\n",
       "#sk-container-id-1 div.sk-text-repr-fallback {\n",
       "  display: none;\n",
       "}\n",
       "\n",
       "div.sk-parallel-item,\n",
       "div.sk-serial,\n",
       "div.sk-item {\n",
       "  /* draw centered vertical line to link estimators */\n",
       "  background-image: linear-gradient(var(--sklearn-color-text-on-default-background), var(--sklearn-color-text-on-default-background));\n",
       "  background-size: 2px 100%;\n",
       "  background-repeat: no-repeat;\n",
       "  background-position: center center;\n",
       "}\n",
       "\n",
       "/* Parallel-specific style estimator block */\n",
       "\n",
       "#sk-container-id-1 div.sk-parallel-item::after {\n",
       "  content: \"\";\n",
       "  width: 100%;\n",
       "  border-bottom: 2px solid var(--sklearn-color-text-on-default-background);\n",
       "  flex-grow: 1;\n",
       "}\n",
       "\n",
       "#sk-container-id-1 div.sk-parallel {\n",
       "  display: flex;\n",
       "  align-items: stretch;\n",
       "  justify-content: center;\n",
       "  background-color: var(--sklearn-color-background);\n",
       "  position: relative;\n",
       "}\n",
       "\n",
       "#sk-container-id-1 div.sk-parallel-item {\n",
       "  display: flex;\n",
       "  flex-direction: column;\n",
       "}\n",
       "\n",
       "#sk-container-id-1 div.sk-parallel-item:first-child::after {\n",
       "  align-self: flex-end;\n",
       "  width: 50%;\n",
       "}\n",
       "\n",
       "#sk-container-id-1 div.sk-parallel-item:last-child::after {\n",
       "  align-self: flex-start;\n",
       "  width: 50%;\n",
       "}\n",
       "\n",
       "#sk-container-id-1 div.sk-parallel-item:only-child::after {\n",
       "  width: 0;\n",
       "}\n",
       "\n",
       "/* Serial-specific style estimator block */\n",
       "\n",
       "#sk-container-id-1 div.sk-serial {\n",
       "  display: flex;\n",
       "  flex-direction: column;\n",
       "  align-items: center;\n",
       "  background-color: var(--sklearn-color-background);\n",
       "  padding-right: 1em;\n",
       "  padding-left: 1em;\n",
       "}\n",
       "\n",
       "\n",
       "/* Toggleable style: style used for estimator/Pipeline/ColumnTransformer box that is\n",
       "clickable and can be expanded/collapsed.\n",
       "- Pipeline and ColumnTransformer use this feature and define the default style\n",
       "- Estimators will overwrite some part of the style using the `sk-estimator` class\n",
       "*/\n",
       "\n",
       "/* Pipeline and ColumnTransformer style (default) */\n",
       "\n",
       "#sk-container-id-1 div.sk-toggleable {\n",
       "  /* Default theme specific background. It is overwritten whether we have a\n",
       "  specific estimator or a Pipeline/ColumnTransformer */\n",
       "  background-color: var(--sklearn-color-background);\n",
       "}\n",
       "\n",
       "/* Toggleable label */\n",
       "#sk-container-id-1 label.sk-toggleable__label {\n",
       "  cursor: pointer;\n",
       "  display: block;\n",
       "  width: 100%;\n",
       "  margin-bottom: 0;\n",
       "  padding: 0.5em;\n",
       "  box-sizing: border-box;\n",
       "  text-align: center;\n",
       "}\n",
       "\n",
       "#sk-container-id-1 label.sk-toggleable__label-arrow:before {\n",
       "  /* Arrow on the left of the label */\n",
       "  content: \"▸\";\n",
       "  float: left;\n",
       "  margin-right: 0.25em;\n",
       "  color: var(--sklearn-color-icon);\n",
       "}\n",
       "\n",
       "#sk-container-id-1 label.sk-toggleable__label-arrow:hover:before {\n",
       "  color: var(--sklearn-color-text);\n",
       "}\n",
       "\n",
       "/* Toggleable content - dropdown */\n",
       "\n",
       "#sk-container-id-1 div.sk-toggleable__content {\n",
       "  max-height: 0;\n",
       "  max-width: 0;\n",
       "  overflow: hidden;\n",
       "  text-align: left;\n",
       "  /* unfitted */\n",
       "  background-color: var(--sklearn-color-unfitted-level-0);\n",
       "}\n",
       "\n",
       "#sk-container-id-1 div.sk-toggleable__content.fitted {\n",
       "  /* fitted */\n",
       "  background-color: var(--sklearn-color-fitted-level-0);\n",
       "}\n",
       "\n",
       "#sk-container-id-1 div.sk-toggleable__content pre {\n",
       "  margin: 0.2em;\n",
       "  border-radius: 0.25em;\n",
       "  color: var(--sklearn-color-text);\n",
       "  /* unfitted */\n",
       "  background-color: var(--sklearn-color-unfitted-level-0);\n",
       "}\n",
       "\n",
       "#sk-container-id-1 div.sk-toggleable__content.fitted pre {\n",
       "  /* unfitted */\n",
       "  background-color: var(--sklearn-color-fitted-level-0);\n",
       "}\n",
       "\n",
       "#sk-container-id-1 input.sk-toggleable__control:checked~div.sk-toggleable__content {\n",
       "  /* Expand drop-down */\n",
       "  max-height: 200px;\n",
       "  max-width: 100%;\n",
       "  overflow: auto;\n",
       "}\n",
       "\n",
       "#sk-container-id-1 input.sk-toggleable__control:checked~label.sk-toggleable__label-arrow:before {\n",
       "  content: \"▾\";\n",
       "}\n",
       "\n",
       "/* Pipeline/ColumnTransformer-specific style */\n",
       "\n",
       "#sk-container-id-1 div.sk-label input.sk-toggleable__control:checked~label.sk-toggleable__label {\n",
       "  color: var(--sklearn-color-text);\n",
       "  background-color: var(--sklearn-color-unfitted-level-2);\n",
       "}\n",
       "\n",
       "#sk-container-id-1 div.sk-label.fitted input.sk-toggleable__control:checked~label.sk-toggleable__label {\n",
       "  background-color: var(--sklearn-color-fitted-level-2);\n",
       "}\n",
       "\n",
       "/* Estimator-specific style */\n",
       "\n",
       "/* Colorize estimator box */\n",
       "#sk-container-id-1 div.sk-estimator input.sk-toggleable__control:checked~label.sk-toggleable__label {\n",
       "  /* unfitted */\n",
       "  background-color: var(--sklearn-color-unfitted-level-2);\n",
       "}\n",
       "\n",
       "#sk-container-id-1 div.sk-estimator.fitted input.sk-toggleable__control:checked~label.sk-toggleable__label {\n",
       "  /* fitted */\n",
       "  background-color: var(--sklearn-color-fitted-level-2);\n",
       "}\n",
       "\n",
       "#sk-container-id-1 div.sk-label label.sk-toggleable__label,\n",
       "#sk-container-id-1 div.sk-label label {\n",
       "  /* The background is the default theme color */\n",
       "  color: var(--sklearn-color-text-on-default-background);\n",
       "}\n",
       "\n",
       "/* On hover, darken the color of the background */\n",
       "#sk-container-id-1 div.sk-label:hover label.sk-toggleable__label {\n",
       "  color: var(--sklearn-color-text);\n",
       "  background-color: var(--sklearn-color-unfitted-level-2);\n",
       "}\n",
       "\n",
       "/* Label box, darken color on hover, fitted */\n",
       "#sk-container-id-1 div.sk-label.fitted:hover label.sk-toggleable__label.fitted {\n",
       "  color: var(--sklearn-color-text);\n",
       "  background-color: var(--sklearn-color-fitted-level-2);\n",
       "}\n",
       "\n",
       "/* Estimator label */\n",
       "\n",
       "#sk-container-id-1 div.sk-label label {\n",
       "  font-family: monospace;\n",
       "  font-weight: bold;\n",
       "  display: inline-block;\n",
       "  line-height: 1.2em;\n",
       "}\n",
       "\n",
       "#sk-container-id-1 div.sk-label-container {\n",
       "  text-align: center;\n",
       "}\n",
       "\n",
       "/* Estimator-specific */\n",
       "#sk-container-id-1 div.sk-estimator {\n",
       "  font-family: monospace;\n",
       "  border: 1px dotted var(--sklearn-color-border-box);\n",
       "  border-radius: 0.25em;\n",
       "  box-sizing: border-box;\n",
       "  margin-bottom: 0.5em;\n",
       "  /* unfitted */\n",
       "  background-color: var(--sklearn-color-unfitted-level-0);\n",
       "}\n",
       "\n",
       "#sk-container-id-1 div.sk-estimator.fitted {\n",
       "  /* fitted */\n",
       "  background-color: var(--sklearn-color-fitted-level-0);\n",
       "}\n",
       "\n",
       "/* on hover */\n",
       "#sk-container-id-1 div.sk-estimator:hover {\n",
       "  /* unfitted */\n",
       "  background-color: var(--sklearn-color-unfitted-level-2);\n",
       "}\n",
       "\n",
       "#sk-container-id-1 div.sk-estimator.fitted:hover {\n",
       "  /* fitted */\n",
       "  background-color: var(--sklearn-color-fitted-level-2);\n",
       "}\n",
       "\n",
       "/* Specification for estimator info (e.g. \"i\" and \"?\") */\n",
       "\n",
       "/* Common style for \"i\" and \"?\" */\n",
       "\n",
       ".sk-estimator-doc-link,\n",
       "a:link.sk-estimator-doc-link,\n",
       "a:visited.sk-estimator-doc-link {\n",
       "  float: right;\n",
       "  font-size: smaller;\n",
       "  line-height: 1em;\n",
       "  font-family: monospace;\n",
       "  background-color: var(--sklearn-color-background);\n",
       "  border-radius: 1em;\n",
       "  height: 1em;\n",
       "  width: 1em;\n",
       "  text-decoration: none !important;\n",
       "  margin-left: 1ex;\n",
       "  /* unfitted */\n",
       "  border: var(--sklearn-color-unfitted-level-1) 1pt solid;\n",
       "  color: var(--sklearn-color-unfitted-level-1);\n",
       "}\n",
       "\n",
       ".sk-estimator-doc-link.fitted,\n",
       "a:link.sk-estimator-doc-link.fitted,\n",
       "a:visited.sk-estimator-doc-link.fitted {\n",
       "  /* fitted */\n",
       "  border: var(--sklearn-color-fitted-level-1) 1pt solid;\n",
       "  color: var(--sklearn-color-fitted-level-1);\n",
       "}\n",
       "\n",
       "/* On hover */\n",
       "div.sk-estimator:hover .sk-estimator-doc-link:hover,\n",
       ".sk-estimator-doc-link:hover,\n",
       "div.sk-label-container:hover .sk-estimator-doc-link:hover,\n",
       ".sk-estimator-doc-link:hover {\n",
       "  /* unfitted */\n",
       "  background-color: var(--sklearn-color-unfitted-level-3);\n",
       "  color: var(--sklearn-color-background);\n",
       "  text-decoration: none;\n",
       "}\n",
       "\n",
       "div.sk-estimator.fitted:hover .sk-estimator-doc-link.fitted:hover,\n",
       ".sk-estimator-doc-link.fitted:hover,\n",
       "div.sk-label-container:hover .sk-estimator-doc-link.fitted:hover,\n",
       ".sk-estimator-doc-link.fitted:hover {\n",
       "  /* fitted */\n",
       "  background-color: var(--sklearn-color-fitted-level-3);\n",
       "  color: var(--sklearn-color-background);\n",
       "  text-decoration: none;\n",
       "}\n",
       "\n",
       "/* Span, style for the box shown on hovering the info icon */\n",
       ".sk-estimator-doc-link span {\n",
       "  display: none;\n",
       "  z-index: 9999;\n",
       "  position: relative;\n",
       "  font-weight: normal;\n",
       "  right: .2ex;\n",
       "  padding: .5ex;\n",
       "  margin: .5ex;\n",
       "  width: min-content;\n",
       "  min-width: 20ex;\n",
       "  max-width: 50ex;\n",
       "  color: var(--sklearn-color-text);\n",
       "  box-shadow: 2pt 2pt 4pt #999;\n",
       "  /* unfitted */\n",
       "  background: var(--sklearn-color-unfitted-level-0);\n",
       "  border: .5pt solid var(--sklearn-color-unfitted-level-3);\n",
       "}\n",
       "\n",
       ".sk-estimator-doc-link.fitted span {\n",
       "  /* fitted */\n",
       "  background: var(--sklearn-color-fitted-level-0);\n",
       "  border: var(--sklearn-color-fitted-level-3);\n",
       "}\n",
       "\n",
       ".sk-estimator-doc-link:hover span {\n",
       "  display: block;\n",
       "}\n",
       "\n",
       "/* \"?\"-specific style due to the `<a>` HTML tag */\n",
       "\n",
       "#sk-container-id-1 a.estimator_doc_link {\n",
       "  float: right;\n",
       "  font-size: 1rem;\n",
       "  line-height: 1em;\n",
       "  font-family: monospace;\n",
       "  background-color: var(--sklearn-color-background);\n",
       "  border-radius: 1rem;\n",
       "  height: 1rem;\n",
       "  width: 1rem;\n",
       "  text-decoration: none;\n",
       "  /* unfitted */\n",
       "  color: var(--sklearn-color-unfitted-level-1);\n",
       "  border: var(--sklearn-color-unfitted-level-1) 1pt solid;\n",
       "}\n",
       "\n",
       "#sk-container-id-1 a.estimator_doc_link.fitted {\n",
       "  /* fitted */\n",
       "  border: var(--sklearn-color-fitted-level-1) 1pt solid;\n",
       "  color: var(--sklearn-color-fitted-level-1);\n",
       "}\n",
       "\n",
       "/* On hover */\n",
       "#sk-container-id-1 a.estimator_doc_link:hover {\n",
       "  /* unfitted */\n",
       "  background-color: var(--sklearn-color-unfitted-level-3);\n",
       "  color: var(--sklearn-color-background);\n",
       "  text-decoration: none;\n",
       "}\n",
       "\n",
       "#sk-container-id-1 a.estimator_doc_link.fitted:hover {\n",
       "  /* fitted */\n",
       "  background-color: var(--sklearn-color-fitted-level-3);\n",
       "}\n",
       "</style><div id=\"sk-container-id-1\" class=\"sk-top-container\"><div class=\"sk-text-repr-fallback\"><pre>LogisticRegression(random_state=42)</pre><b>In a Jupyter environment, please rerun this cell to show the HTML representation or trust the notebook. <br />On GitHub, the HTML representation is unable to render, please try loading this page with nbviewer.org.</b></div><div class=\"sk-container\" hidden><div class=\"sk-item\"><div class=\"sk-estimator fitted sk-toggleable\"><input class=\"sk-toggleable__control sk-hidden--visually\" id=\"sk-estimator-id-1\" type=\"checkbox\" checked><label for=\"sk-estimator-id-1\" class=\"sk-toggleable__label fitted sk-toggleable__label-arrow fitted\">&nbsp;&nbsp;LogisticRegression<a class=\"sk-estimator-doc-link fitted\" rel=\"noreferrer\" target=\"_blank\" href=\"https://scikit-learn.org/1.5/modules/generated/sklearn.linear_model.LogisticRegression.html\">?<span>Documentation for LogisticRegression</span></a><span class=\"sk-estimator-doc-link fitted\">i<span>Fitted</span></span></label><div class=\"sk-toggleable__content fitted\"><pre>LogisticRegression(random_state=42)</pre></div> </div></div></div></div>"
      ],
      "text/plain": [
       "LogisticRegression(random_state=42)"
      ]
     },
     "execution_count": 59,
     "metadata": {},
     "output_type": "execute_result"
    }
   ],
   "source": [
    "# 🧠 Initialize and train the model\n",
    "model = LogisticRegression(random_state=42)\n",
    "model.fit(X_train, Y_train)"
   ]
  },
  {
   "cell_type": "markdown",
   "id": "2c725510",
   "metadata": {},
   "source": [
    "<p>We train a simple logistic regression model to classify student exam outcomes.</p>\n"
   ]
  },
  {
   "cell_type": "markdown",
   "id": "9f91e4ea",
   "metadata": {},
   "source": [
    " <h2 style=\"color:#7B1FA2\">📈 Step 7: Make Predictions & Evaluate</h2>"
   ]
  },
  {
   "cell_type": "code",
   "execution_count": 60,
   "id": "a3eb7229",
   "metadata": {},
   "outputs": [
    {
     "data": {
      "text/plain": [
       "0.9118773946360154"
      ]
     },
     "execution_count": 60,
     "metadata": {},
     "output_type": "execute_result"
    }
   ],
   "source": [
    "# 🔮 Make predictions\n",
    "Y_pred = model.predict(X_test)\n",
    "\n",
    "# 🎯 Evaluate accuracy\n",
    "accuracy = accuracy_score(Y_test, Y_pred)\n",
    "report = classification_report(Y_test, Y_pred)\n",
    "\n",
    "# 📊 Show results\n",
    "accuracy"
   ]
  },
  {
   "cell_type": "markdown",
   "id": "45c48e54",
   "metadata": {},
   "source": [
    "<p>We evaluate our model using <code>accuracy_score</code> and <code>classification_report</code>. A DataFrame shows predicted values.</p>\n"
   ]
  },
  {
   "cell_type": "markdown",
   "id": "6d613896",
   "metadata": {},
   "source": [
    " <h2 style=\"color:#4E342E\">💾 Step 8: Save Outputs</h2>"
   ]
  },
  {
   "cell_type": "code",
   "execution_count": 61,
   "id": "43802333",
   "metadata": {},
   "outputs": [],
   "source": [
    "# 💾 Save outputs as CSV\n",
    "Data.to_csv('student_exam_new.csv')\n",
    "Y_test.to_csv('Y_test.csv')\n",
    "pd.DataFrame(Y_pred).to_csv('Y_pred.csv')\n",
    "pd.DataFrame(model.classes_).to_csv('modelclasses_.csv')"
   ]
  },
  {
   "cell_type": "markdown",
   "id": "b82eff88",
   "metadata": {},
   "source": [
    "<p>All key outputs — including predictions and transformed dataset — are saved for later use or deployment.</p>\n"
   ]
  },
  {
   "cell_type": "markdown",
   "id": "42c85ef5",
   "metadata": {},
   "source": [
    " <h2 style=\"color:#388E3C\">🌳 Step 9: Try Random Forest</h2>"
   ]
  },
  {
   "cell_type": "code",
   "execution_count": 62,
   "id": "f75b60c5",
   "metadata": {},
   "outputs": [
    {
     "data": {
      "text/plain": [
       "0.9042145593869731"
      ]
     },
     "execution_count": 62,
     "metadata": {},
     "output_type": "execute_result"
    }
   ],
   "source": [
    "# 🌲 Train a random forest regressor\n",
    "model2 = RandomForestRegressor(n_estimators=300, max_depth=6)\n",
    "model2.fit(X_train, Y_train)\n",
    "\n",
    "# 🔮 Predict and round classification\n",
    "Y_pred2 = model2.predict(X_test).round(0)\n",
    "\n",
    "# 📈 Evaluate accuracy\n",
    "accuracy = accuracy_score(Y_pred2, Y_test)\n",
    "accuracy\n"
   ]
  },
  {
   "cell_type": "markdown",
   "id": "0a6e4ad6",
   "metadata": {},
   "source": [
    "<p>We experiment with a <b>Random Forest</b> model — powerful for handling complex relationships and nonlinear patterns.</p>"
   ]
  },
  {
   "cell_type": "markdown",
   "id": "26a29291",
   "metadata": {},
   "source": [
    " <h2 style=\"color:#00695C\">🧠 What You Should Learn</h2>"
   ]
  },
  {
   "cell_type": "markdown",
   "id": "fa650e65",
   "metadata": {},
   "source": [
    "By completing this notebook, you should now be able to:\n",
    "\n",
    "✅ Understand the full data science workflow  \n",
    "✅ Load and inspect a real-world dataset using `pandas`  \n",
    "✅ Detect and handle missing data  \n",
    "✅ Encode categorical variables using `OneHotEncoder`  \n",
    "✅ Convert a numeric score (`G3`) into a binary classification target  \n",
    "✅ Split your data into training and testing sets  \n",
    "✅ Train a Logistic Regression model to predict pass/fail  \n",
    "✅ Evaluate your model using accuracy and classification report  \n",
    "✅ Try a Random Forest model as a more powerful alternative  \n",
    "✅ Save your processed data and model outputs to CSV for deployment\n"
   ]
  },
  {
   "cell_type": "markdown",
   "id": "6211f4e4",
   "metadata": {},
   "source": [
    " <h2 style=\"color:#00695C\">🎯 Challenges For You : </h2>"
   ]
  },
  {
   "cell_type": "markdown",
   "id": "b88d0b19",
   "metadata": {},
   "source": [
    "Now that you've built a working ML model, try these hands-on challenges to deepen your skills:\n",
    "\n",
    "🧩 **Challenge 1: Try a Different Classifier**  \n",
    "\n",
    "🔁 **Challenge 2 : Cross-Validate Your Model**  \n",
    "    Apply `cross_val_score` to evaluate both Logistic Regression and Random Forest across folds.\n"
   ]
  }
 ],
 "metadata": {
  "kernelspec": {
   "display_name": "base",
   "language": "python",
   "name": "python3"
  },
  "language_info": {
   "codemirror_mode": {
    "name": "ipython",
    "version": 3
   },
   "file_extension": ".py",
   "mimetype": "text/x-python",
   "name": "python",
   "nbconvert_exporter": "python",
   "pygments_lexer": "ipython3",
   "version": "3.12.3"
  }
 },
 "nbformat": 4,
 "nbformat_minor": 5
}
